{
 "cells": [
  {
   "cell_type": "markdown",
   "metadata": {},
   "source": [
    "# Feature Reduction Notebook"
   ]
  },
  {
   "cell_type": "markdown",
   "metadata": {},
   "source": [
    "## Objectives "
   ]
  },
  {
   "cell_type": "markdown",
   "metadata": {},
   "source": [
    "* Answer Business Requirement 2:\n",
    "    * The client is interested to know if a cherry leaf has powdery mildew or not.\n",
    "\n",
    "## Inputs\n",
    "    * inputs/cherry_leaves/cherry-leaves/train\n",
    "    * inputs/cherry_leaves/cherry-leaves/test\n",
    "    * inputs/cherry_leaves/cherry-leaves/validation\n",
    "   \n",
    "\n",
    "## Outputs \n",
    "   \n",
    "    \n",
    "## Additional Comments | Insights | Conclusions"
   ]
  }
 ],
 "metadata": {
  "language_info": {
   "name": "python"
  }
 },
 "nbformat": 4,
 "nbformat_minor": 2
}
