{
 "cells": [
  {
   "cell_type": "markdown",
   "metadata": {
    "id": "0aStgWSO0E0E"
   },
   "source": [
    "# **Mildew Detector for Cherry Trees**"
   ]
  },
  {
   "cell_type": "markdown",
   "metadata": {
    "id": "1eLEkw5O0ECa"
   },
   "source": [
    "## Objectives\n",
    "\n",
    "* Fetch data from Kaggle and prepare it for further ML processing.\n",
    "\n",
    "## Inputs\n",
    "\n",
    "* Kaggle.json file -authentication token\n",
    "\n",
    "## Outputs\n",
    "\n",
    "* Generate Dataset: inputs/datasets/cherry_leaves\n",
    "\n",
    "## Additional Comments\n",
    " \n",
    "\n"
   ]
  },
  {
   "cell_type": "markdown",
   "metadata": {},
   "source": [
    "No comments"
   ]
  },
  {
   "cell_type": "markdown",
   "metadata": {
    "id": "9uWZXH9LwoQg"
   },
   "source": [
    "---"
   ]
  },
  {
   "cell_type": "markdown",
   "metadata": {
    "id": "cqP-UeN-z3i2"
   },
   "source": [
    "# Change working directory"
   ]
  },
  {
   "cell_type": "code",
   "execution_count": 1,
   "metadata": {
    "id": "wZfF_j-Bz3i4",
    "outputId": "66943449-1436-4c3d-85c7-b85f9f78349b"
   },
   "outputs": [],
   "source": [
    "import numpy\n",
    "import os\n",
    "from pathlib import Path\n"
   ]
  },
  {
   "cell_type": "markdown",
   "metadata": {},
   "source": [
    "Change the working directory"
   ]
  },
  {
   "cell_type": "code",
   "execution_count": null,
   "metadata": {},
   "outputs": [],
   "source": [
    "current_dir = os.getcwd()\n",
    "current_dir"
   ]
  },
  {
   "cell_type": "code",
   "execution_count": null,
   "metadata": {
    "id": "TwHsQRWjz3i9",
    "outputId": "86849db3-cd2f-4cc5-ebb8-2d0caafa1a2c"
   },
   "outputs": [],
   "source": [
    "os.chdir('/workspace/P5-Mildew-Detection-in-Cherry-Leaves')\n",
    "print(\"You set a new current directory\")"
   ]
  },
  {
   "cell_type": "markdown",
   "metadata": {
    "id": "M_xPk_Ijz3i-"
   },
   "source": [
    "Confirm the new current directory"
   ]
  },
  {
   "cell_type": "code",
   "execution_count": null,
   "metadata": {
    "id": "vz3S-_kjz3jA",
    "outputId": "00b79ae4-75d0-4a96-d193-ac9ef9847ea2"
   },
   "outputs": [],
   "source": [
    "current_dir = os.getcwd()\n",
    "current_dir"
   ]
  },
  {
   "cell_type": "markdown",
   "metadata": {
    "id": "-mavJ8DibrcQ"
   },
   "source": [
    "# Install Kaggle"
   ]
  },
  {
   "cell_type": "markdown",
   "metadata": {},
   "source": [
    "Section 1 content"
   ]
  },
  {
   "cell_type": "code",
   "execution_count": null,
   "metadata": {},
   "outputs": [],
   "source": [
    "# Install Kaggle package\n",
    "!pip install kaggle "
   ]
  },
  {
   "cell_type": "markdown",
   "metadata": {
    "id": "ZY3l0-AxO93d"
   },
   "source": [
    "---"
   ]
  },
  {
   "cell_type": "markdown",
   "metadata": {},
   "source": [
    "Change the Kaggle configuration directory to current working directory and permission of Kaggle authentication json."
   ]
  },
  {
   "cell_type": "code",
   "execution_count": 5,
   "metadata": {},
   "outputs": [],
   "source": [
    "os.environ['KAGGLE_CONFIG_DIR'] = os.getcwd()\n",
    "! chmod 600 kaggle.json"
   ]
  },
  {
   "cell_type": "markdown",
   "metadata": {},
   "source": [
    "Set Kaggle Dataset and download it."
   ]
  },
  {
   "cell_type": "code",
   "execution_count": null,
   "metadata": {},
   "outputs": [],
   "source": [
    "KaggleDatasetPath = \"codeinstitute/cherry-leaves\"\n",
    "DestinationFolder = \"inputs/cherry_leaves\"\n",
    "! kaggle datasets download -d {KaggleDatasetPath} -p {DestinationFolder}\n"
   ]
  },
  {
   "cell_type": "markdown",
   "metadata": {},
   "source": [
    "Unzip the downloaded file, and delete the zip file."
   ]
  },
  {
   "cell_type": "code",
   "execution_count": 8,
   "metadata": {},
   "outputs": [],
   "source": [
    "import zipfile\n",
    "with zipfile.ZipFile(DestinationFolder + '/cherry-leaves.zip', 'r') as zip_ref:\n",
    "    zip_ref.extractall(DestinationFolder)\n",
    "\n",
    "os.remove(DestinationFolder + '/cherry-leaves.zip')"
   ]
  },
  {
   "cell_type": "markdown",
   "metadata": {
    "id": "uFQo3ycuO-v6"
   },
   "source": [
    "# Data Preparation"
   ]
  },
  {
   "cell_type": "markdown",
   "metadata": {},
   "source": [
    "Check and Remove non-image files"
   ]
  },
  {
   "cell_type": "markdown",
   "metadata": {},
   "source": [
    "---"
   ]
  },
  {
   "cell_type": "code",
   "execution_count": 7,
   "metadata": {},
   "outputs": [],
   "source": [
    "\n",
    "def remove_non_image_file(my_data_dir):\n",
    "    image_extension = ('.png', '.jpg', '.jpeg')\n",
    "    folders = os.listdir(my_data_dir)\n",
    "    for folder in folders:\n",
    "        files = os.listdir(my_data_dir + '/' + folder)\n",
    "        # print(files)\n",
    "        i = []\n",
    "        j = []\n",
    "        for given_file in files:\n",
    "            if not given_file.lower().endswith(image_extension):\n",
    "                file_location = my_data_dir + '/' + folder + '/' + given_file\n",
    "                os.remove(file_location)  # remove non image file\n",
    "                i.append(1)\n",
    "            else:\n",
    "                j.append(1)\n",
    "                pass\n",
    "        print(f\"Folder: {folder} - has image file\", len(j))\n",
    "        print(f\"Folder: {folder} - has non-image file\", len(i))"
   ]
  },
  {
   "cell_type": "code",
   "execution_count": null,
   "metadata": {},
   "outputs": [],
   "source": [
    "remove_non_image_file(my_data_dir='inputs/cherry_leaves/cherry-leaves')"
   ]
  },
  {
   "cell_type": "markdown",
   "metadata": {},
   "source": [
    "### Check for corrupted images"
   ]
  },
  {
   "cell_type": "code",
   "execution_count": 12,
   "metadata": {},
   "outputs": [],
   "source": [
    "import os\n",
    "from PIL import Image"
   ]
  },
  {
   "cell_type": "markdown",
   "metadata": {},
   "source": [
    "#### Define the dataset directory"
   ]
  },
  {
   "cell_type": "code",
   "execution_count": 13,
   "metadata": {},
   "outputs": [],
   "source": [
    "my_data_dir = 'inputs/cherry_leaves/cherry-leaves'"
   ]
  },
  {
   "cell_type": "markdown",
   "metadata": {},
   "source": [
    "Initialize list to track corrupted images and iterate through the dataset to check for corrupted images."
   ]
  },
  {
   "cell_type": "code",
   "execution_count": null,
   "metadata": {},
   "outputs": [],
   "source": [
    "corrupted_files = []\n",
    "\n",
    "# Iterate through the dataset to check for corrupted images\n",
    "print(\"Checking for corrupted images...\")\n",
    "for root, _, files in os.walk(my_data_dir):\n",
    "    for file in files:\n",
    "        file_path = os.path.join(root, file)\n",
    "        try:\n",
    "            # Try opening the image to detect corruption\n",
    "            with Image.open(file_path) as img:\n",
    "                img.verify()\n",
    "        except (FileNotFoundError, OSError):\n",
    "            corrupted_files.append(file_path)"
   ]
  },
  {
   "cell_type": "markdown",
   "metadata": {},
   "source": [
    "Log the results"
   ]
  },
  {
   "cell_type": "code",
   "execution_count": null,
   "metadata": {},
   "outputs": [],
   "source": [
    "if corrupted_files:\n",
    "    print(\"Corrupted files detected:\")\n",
    "    for file in corrupted_files:\n",
    "        print(file)\n",
    "else:\n",
    "    print(\"No corrupted files found.\")\n",
    "\n",
    "# Save results to a text file\n",
    "with open(\"corrupted_files_log.txt\", \"w\") as log_file:\n",
    "    if corrupted_files:\n",
    "        log_file.write(\"Corrupted files:\\n\")\n",
    "        log_file.writelines([f\"{file}\\n\" for file in corrupted_files])\n",
    "\n",
    "print(\"Check completed. Results logged to corrupted_files_log.txt\")\n"
   ]
  },
  {
   "cell_type": "markdown",
   "metadata": {},
   "source": [
    "Split train validation set"
   ]
  },
  {
   "cell_type": "code",
   "execution_count": 11,
   "metadata": {},
   "outputs": [],
   "source": [
    "import os\n",
    "import shutil\n",
    "import random\n",
    "\n",
    "def split_train_validation_test_images(my_data_dir, train_set_ratio, validation_set_ratio, test_set_ratio):\n",
    "    \"\"\"\n",
    "    Split the dataset of images into train, validation, and test sets.\n",
    "\n",
    "    Args:\n",
    "        my_data_dir (str): Path to the dataset directory containing class folders.\n",
    "        train_set_ratio (float): Proportion of data to be used for training.\n",
    "        validation_set_ratio (float): Proportion of data to be used for validation.\n",
    "        test_set_ratio (float): Proportion of data to be used for testing.\n",
    "\n",
    "    Returns:\n",
    "        None\n",
    "    \"\"\"\n",
    "    # Check if ratios sum to 1.0\n",
    "    if not abs(train_set_ratio + validation_set_ratio + test_set_ratio - 1.0) < 1e-6:\n",
    "        raise ValueError(\"train_set_ratio, validation_set_ratio, and test_set_ratio should sum to 1.0.\")\n",
    "\n",
    "    # Get class labels (folder names)\n",
    "    labels = [label for label in os.listdir(my_data_dir) if os.path.isdir(os.path.join(my_data_dir, label))]\n",
    "\n",
    "    # Create train, validation, test directories\n",
    "    for folder in ['train', 'validation', 'test']:\n",
    "        for label in labels:\n",
    "            os.makedirs(os.path.join(my_data_dir, folder, label), exist_ok=True)\n",
    "\n",
    "    for label in labels:\n",
    "        class_dir = os.path.join(my_data_dir, label)\n",
    "        files = [file for file in os.listdir(class_dir) if os.path.isfile(os.path.join(class_dir, file))]\n",
    "        random.shuffle(files)\n",
    "\n",
    "        # Calculate split indices\n",
    "        train_count = int(len(files) * train_set_ratio)\n",
    "        val_count = int(len(files) * validation_set_ratio)\n",
    "        \n",
    "        train_files = files[:train_count]\n",
    "        val_files = files[train_count:train_count + val_count]\n",
    "        test_files = files[train_count + val_count:]\n",
    "\n",
    "        # Move files to corresponding folders\n",
    "        for file in train_files:\n",
    "            shutil.move(os.path.join(class_dir, file), os.path.join(my_data_dir, 'train', label, file))\n",
    "\n",
    "        for file in val_files:\n",
    "            shutil.move(os.path.join(class_dir, file), os.path.join(my_data_dir, 'validation', label, file))\n",
    "\n",
    "        for file in test_files:\n",
    "            shutil.move(os.path.join(class_dir, file), os.path.join(my_data_dir, 'test', label, file))\n",
    "\n",
    "        # Remove the original class folder if empty\n",
    "        if not os.listdir(class_dir):\n",
    "            os.rmdir(class_dir)\n",
    "\n",
    "    print(\"Data successfully split into train, validation, and test sets.\")\n",
    "    "
   ]
  },
  {
   "cell_type": "code",
   "execution_count": null,
   "metadata": {},
   "outputs": [],
   "source": [
    "split_train_validation_test_images(my_data_dir = f\"inputs/cherry_leaves/cherry-leaves\",\n",
    "                        train_set_ratio = 0.7,\n",
    "                        validation_set_ratio=0.1,\n",
    "                        test_set_ratio=0.2\n",
    "                        )"
   ]
  },
  {
   "cell_type": "markdown",
   "metadata": {},
   "source": [
    "Verify class balance in training set"
   ]
  },
  {
   "cell_type": "markdown",
   "metadata": {},
   "source": [
    "Load Dataset"
   ]
  },
  {
   "cell_type": "code",
   "execution_count": null,
   "metadata": {},
   "outputs": [],
   "source": [
    "import os\n",
    "\n",
    "# Path to the training set\n",
    "train_dir = \"inputs/cherry_leaves/cherry-leaves/train\"\n",
    "\n",
    "# Count and plot for training set only\n",
    "train_classes = os.listdir(train_dir)\n",
    "train_class_counts = {cls: len(os.listdir(os.path.join(train_dir, cls))) for cls in train_classes}\n",
    "\n",
    "print(\"Training Set Class Distribution:\", train_class_counts)\n"
   ]
  },
  {
   "cell_type": "markdown",
   "metadata": {},
   "source": [
    "Visualise Class Distribution"
   ]
  },
  {
   "cell_type": "code",
   "execution_count": null,
   "metadata": {},
   "outputs": [],
   "source": [
    "import matplotlib.pyplot as plt\n",
    "\n",
    "# Bar chart for class distribution\n",
    "plt.bar(train_class_counts.keys(), train_class_counts.values(), color=['green', 'red'])\n",
    "plt.title('Training Set Class Distribution')\n",
    "plt.xlabel('Classes')\n",
    "plt.ylabel('Number of Images')\n",
    "plt.show()\n"
   ]
  },
  {
   "cell_type": "markdown",
   "metadata": {},
   "source": [
    "Check the validation set - Just to be aware of any natural inconsistencies or huge imbalances. This check will be used when the data set increases with more species and images."
   ]
  },
  {
   "cell_type": "code",
   "execution_count": null,
   "metadata": {},
   "outputs": [],
   "source": [
    "# Path to the validation set\n",
    "validation_dir = \"inputs/cherry_leaves/cherry-leaves/validation\"\n",
    "\n",
    "# Count and plot for validation set\n",
    "validation_classes = os.listdir(validation_dir)\n",
    "validation_class_counts = {cls: len(os.listdir(os.path.join(validation_dir, cls))) for cls in validation_classes}\n",
    "\n",
    "print(\"Validation Set Class Distribution:\", validation_class_counts)\n"
   ]
  },
  {
   "cell_type": "markdown",
   "metadata": {},
   "source": [
    "---"
   ]
  },
  {
   "cell_type": "markdown",
   "metadata": {
    "id": "ltNetd085qHf"
   },
   "source": [
    "# Push files to Repo"
   ]
  },
  {
   "cell_type": "markdown",
   "metadata": {},
   "source": [
    "* If you don't need to push files to Repo, you may replace this section with \"Conclusions and Next Steps\" and state your conclusions and next steps."
   ]
  }
 ],
 "metadata": {
  "accelerator": "GPU",
  "colab": {
   "name": "Data Practitioner Jupyter Notebook.ipynb",
   "provenance": [],
   "toc_visible": true
  },
  "kernelspec": {
   "display_name": "Python 3",
   "language": "python",
   "name": "python3"
  },
  "language_info": {
   "codemirror_mode": {
    "name": "ipython",
    "version": 3
   },
   "file_extension": ".py",
   "mimetype": "text/x-python",
   "name": "python",
   "nbconvert_exporter": "python",
   "pygments_lexer": "ipython3",
   "version": "3.8.18"
  },
  "orig_nbformat": 2
 },
 "nbformat": 4,
 "nbformat_minor": 2
}
